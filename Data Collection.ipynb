{
 "cells": [
  {
   "cell_type": "markdown",
   "metadata": {},
   "source": [
    "# Data collection\n",
    "\n",
    "On this notebook we're collecting the README.md files from github API, and saving them locally to be analyzed on another notebook."
   ]
  },
  {
   "cell_type": "markdown",
   "metadata": {},
   "source": [
    "## Download functions\n",
    "\n",
    "### 0. Importing\n",
    "> External libraries used on the notebook\n",
    "\n",
    "-  [Requests](http://docs.python-requests.org/en/master/): library to make https requests."
   ]
  },
  {
   "cell_type": "code",
   "execution_count": 31,
   "metadata": {},
   "outputs": [],
   "source": [
    "import requests as rq"
   ]
  },
  {
   "cell_type": "markdown",
   "metadata": {},
   "source": [
    "### 1. fetchReadmeURL\n",
    "> Query GitHub API for the download URL of the README.md file from the specified repository.\n",
    "\n",
    "**Parameters:** \n",
    "- `repoOwner`: name of the repository owner.\n",
    "- `repoName`: name of the repository.\n",
    "\n",
    "**Return:**\n",
    "- download URL of README.md file."
   ]
  },
  {
   "cell_type": "code",
   "execution_count": 32,
   "metadata": {},
   "outputs": [],
   "source": [
    "def fetchReadmeURL(repoOwner, repoName):\n",
    "    baseURL = 'https://api.github.com/repos'\n",
    "    requestURL = f'{baseURL}/{repoOwner}/{repoName}/readme'\n",
    "    \n",
    "    responseJSON = rq.get(requestURL).json()\n",
    "    readmeURL = responseJSON['download_url']\n",
    "    \n",
    "    return readmeURL"
   ]
  },
  {
   "cell_type": "markdown",
   "metadata": {},
   "source": [
    "### 2. downloadReadme\n",
    "> Download the README file, and save it with a specified filename on the `/data` folder.\n",
    "\n",
    "**Parameters:** \n",
    "- `readmeURL`: download URL of README.md file.\n",
    "- `filename`: name given to the file once downloaded.\n",
    "\n",
    "**Side-effect:**\n",
    "- new `filename.md` file saved on the `/data` folder."
   ]
  },
  {
   "cell_type": "code",
   "execution_count": 29,
   "metadata": {},
   "outputs": [],
   "source": [
    "def downloadReadme(readmeURL, filename):\n",
    "    !cd data && curl -o {filename + '.md'} {readmeURL} && cd -"
   ]
  },
  {
   "cell_type": "markdown",
   "metadata": {},
   "source": [
    "## Testing download functions"
   ]
  },
  {
   "cell_type": "code",
   "execution_count": 33,
   "metadata": {},
   "outputs": [
    {
     "name": "stdout",
     "output_type": "stream",
     "text": [
      "  % Total    % Received % Xferd  Average Speed   Time    Time     Time  Current\n",
      "                                 Dload  Upload   Total   Spent    Left  Speed\n",
      "100  2542  100  2542    0     0    253      0  0:00:10  0:00:10 --:--:--   726\n",
      "/Users/pintor/Documents/CIn/10/Data Science/2018-2-projeto-bubads\n"
     ]
    }
   ],
   "source": [
    "test_downloadURL = fetchReadmeURL('hpbl', 'spotties')\n",
    "test_downloadREADME = downloadReadme(test_downloadURL, 'spotties')"
   ]
  }
 ],
 "metadata": {
  "kernelspec": {
   "display_name": "Python 3",
   "language": "python",
   "name": "python3"
  },
  "language_info": {
   "codemirror_mode": {
    "name": "ipython",
    "version": 3
   },
   "file_extension": ".py",
   "mimetype": "text/x-python",
   "name": "python",
   "nbconvert_exporter": "python",
   "pygments_lexer": "ipython3",
   "version": "3.7.0"
  }
 },
 "nbformat": 4,
 "nbformat_minor": 2
}
