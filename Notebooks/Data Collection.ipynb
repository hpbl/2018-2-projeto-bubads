{
 "cells": [
  {
   "cell_type": "markdown",
   "metadata": {},
   "source": [
    "# Data collection\n",
    "\n",
    "On this notebook we're collecting the README.md files from github API, and saving them locally to be analyzed on another notebook."
   ]
  },
  {
   "cell_type": "markdown",
   "metadata": {},
   "source": [
    "## Download functions\n",
    "\n",
    "### 0. Importing\n",
    "> External libraries used on the notebook\n",
    "\n",
    "-  [Requests](http://docs.python-requests.org/en/master/): library to make https requests."
   ]
  },
  {
   "cell_type": "code",
   "execution_count": 12,
   "metadata": {},
   "outputs": [],
   "source": [
    "import requests as rq"
   ]
  },
  {
   "cell_type": "markdown",
   "metadata": {},
   "source": [
    "### 1. fetchReadmeURL\n",
    "> Query GitHub API for the download URL of the README.md file from the specified repository.\n",
    "\n",
    "**Parameters:** \n",
    "- `repoOwner`: name of the repository owner.\n",
    "- `repoName`: name of the repository.\n",
    "\n",
    "**Return:**\n",
    "- download URL of README.md file."
   ]
  },
  {
   "cell_type": "code",
   "execution_count": 13,
   "metadata": {},
   "outputs": [],
   "source": [
    "def fetchReadmeURL(repoOwner, repoName):\n",
    "    baseURL = 'https://api.github.com/repos'\n",
    "    requestURL = f'{baseURL}/{repoOwner}/{repoName}/readme'\n",
    "    \n",
    "    responseJSON = rq.get(requestURL).json()\n",
    "    readmeURL = responseJSON['download_url']\n",
    "    \n",
    "    return readmeURL"
   ]
  },
  {
   "cell_type": "markdown",
   "metadata": {},
   "source": [
    "### 2. downloadReadme\n",
    "> Download the README file, and save it with a specified filename on the `/data` folder.\n",
    "\n",
    "**Parameters:** \n",
    "- `readmeURL`: download URL of README.md file.\n",
    "- `filename`: name given to the file once downloaded.\n",
    "\n",
    "**Side-effect:**\n",
    "- new `filename.md` file saved on the `/data` folder."
   ]
  },
  {
   "cell_type": "code",
   "execution_count": 15,
   "metadata": {},
   "outputs": [],
   "source": [
    "def downloadReadme(readmeURL, filename):\n",
    "    !cd data && curl -o {filename + '.md'} {readmeURL} && cd -"
   ]
  },
  {
   "cell_type": "markdown",
   "metadata": {},
   "source": [
    "## Testing download functions"
   ]
  },
  {
   "cell_type": "code",
   "execution_count": 16,
   "metadata": {},
   "outputs": [
    {
     "name": "stdout",
     "output_type": "stream",
     "text": [
      "  % Total    % Received % Xferd  Average Speed   Time    Time     Time  Current\n",
      "                                 Dload  Upload   Total   Spent    Left  Speed\n",
      "100  2542  100  2542    0     0    253      0  0:00:10  0:00:10 --:--:--   728\n",
      "/Users/pintor/Documents/CIn/10/Data Science/2018-2-projeto-bubads/Notebooks\n"
     ]
    }
   ],
   "source": [
    "test_downloadURL = fetchReadmeURL('hpbl', 'spotties')\n",
    "test_downloadREADME = downloadReadme(test_downloadURL, 'spotties')"
   ]
  },
  {
   "cell_type": "markdown",
   "metadata": {},
   "source": [
    "## Compiling useful repositories\n",
    "The functions bellow compile a list of possible iOS frameworks/libraries repositories written in Swift"
   ]
  },
  {
   "cell_type": "markdown",
   "metadata": {},
   "source": [
    "Querying GitHub API for the 100 most starred repositories tagged \"iOS\" and written in Swift.\n",
    "Saving the JSON response as a local file as backup."
   ]
  },
  {
   "cell_type": "code",
   "execution_count": 37,
   "metadata": {},
   "outputs": [
    {
     "name": "stdout",
     "output_type": "stream",
     "text": [
      "  % Total    % Received % Xferd  Average Speed   Time    Time     Time  Current\n",
      "                                 Dload  Upload   Total   Spent    Left  Speed\n",
      "  0     0    0     0    0     0      0      0 --:--:-- --:--:-- --:--:--     0curl: (6) Could not resolve host:  \n",
      "100  605k  100  605k    0     0   239k      0  0:00:02  0:00:02 --:--:--  283k\n"
     ]
    }
   ],
   "source": [
    "url = \"https://api.github.com/search/repositories\\?q\\=+topic:iOS+language:swift+sort:stars\\&per_page\\=100\"\n",
    "headers = \"Accept:application/vnd.github.mercy-preview+json\"\n",
    "filename = 'top100Swift.json'\n",
    "# len(rq.get(url, headers=headers).json()['items'])\n",
    "\n",
    "!cd data && curl -H {headers} \\  {url} > {filename}"
   ]
  },
  {
   "cell_type": "markdown",
   "metadata": {},
   "source": [
    "Making the same request, but now keeping the response on memory."
   ]
  },
  {
   "cell_type": "code",
   "execution_count": 48,
   "metadata": {},
   "outputs": [],
   "source": [
    "response = rq.get(\"https://api.github.com/search/repositories?q=+topic:iOS+language:swift+sort:stars&per_page=100\").json()"
   ]
  },
  {
   "cell_type": "markdown",
   "metadata": {},
   "source": [
    "Saving the the URL of each repo on a txt, that will be analyzed by hand to see which ones are libraries or frameworks."
   ]
  },
  {
   "cell_type": "code",
   "execution_count": 53,
   "metadata": {},
   "outputs": [],
   "source": [
    "reposURL = []\n",
    "for element in response['items']:\n",
    "    reposURL.append(element['html_url'])\n",
    "\n",
    "with open('possibleFrameworks.txt', 'w') as f:\n",
    "    for repo in reposURL:\n",
    "        f.write(\"%s\\n\" % repo)"
   ]
  },
  {
   "cell_type": "markdown",
   "metadata": {},
   "source": [
    "For our analysis only repositories belonging to frameworks or libraries would be useful, so with a list of [`data/possibleFrameworks.txt`](data/possibleFrameworks.txt) we manually opened each link and looked at it's README file.\n",
    "\n",
    "The [`data/confirmedFrameworks.txt`](data/confirmedFrameworks.txt) list contains 85 links to repositories that belong to libraries or frameworks."
   ]
  },
  {
   "cell_type": "code",
   "execution_count": 3,
   "metadata": {},
   "outputs": [
    {
     "data": {
      "text/plain": [
       "85"
      ]
     },
     "execution_count": 3,
     "metadata": {},
     "output_type": "execute_result"
    }
   ],
   "source": [
    "frameworksURLs = []\n",
    "confirmedFrameworks = open('data/confirmedFrameworks.txt', 'r' )\n",
    "frameworksURLs = confirmedFrameworks.readlines()\n",
    "\n",
    "len(frameworksURLs)"
   ]
  }
 ],
 "metadata": {
  "kernelspec": {
   "display_name": "Python 3",
   "language": "python",
   "name": "python3"
  },
  "language_info": {
   "codemirror_mode": {
    "name": "ipython",
    "version": 3
   },
   "file_extension": ".py",
   "mimetype": "text/x-python",
   "name": "python",
   "nbconvert_exporter": "python",
   "pygments_lexer": "ipython3",
   "version": "3.7.0"
  }
 },
 "nbformat": 4,
 "nbformat_minor": 2
}
